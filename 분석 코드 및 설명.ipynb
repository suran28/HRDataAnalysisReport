{
 "cells": [
  {
   "cell_type": "markdown",
   "id": "94f5fadb",
   "metadata": {},
   "source": [
    "## 데이터 출처: https://www.kaggle.com/datasets/telikaramu/worklife-balance-covid-19\n",
    "## 데이터 주제: Work Life Balance of IT Employees during COVID-19\n",
    "## 목표: 펜데믹 기간동안 IT 기업 직원들의 워라밸에 영향을 미치는 요인 알아보기"
   ]
  },
  {
   "cell_type": "code",
   "execution_count": 11,
   "id": "c3b392ef",
   "metadata": {
    "scrolled": true
   },
   "outputs": [
    {
     "name": "stdout",
     "output_type": "stream",
     "text": [
      "(200, 21)\n",
      "Index(['Gender:', ' Marital status?',\n",
      "       ' If you are married, is your partner employed?',\n",
      "       'Being employed, who helps you take care of your children?',\n",
      "       ' How many hours in a day, do you spend time with your family during this Covid-19 Pandemic?',\n",
      "       ' Do you ever miss out quality time with your family or your friends because of work?',\n",
      "       'How many hours in a week do you work?',\n",
      "       'do you feel that you are satisfied with your work life balance?',\n",
      "       'Work life balance factors had a high impact on the  performance of employees in Hyderabad IT Industry during covid-19.',\n",
      "       'Do you feel living in urban areas helps you maintain work life balance while working from home?',\n",
      "       'Do you feel that time management plays an important role in maintian work life balance?',\n",
      "       'Do you feel Flexible Work Schedule causes miscommunication between the employees?',\n",
      "       'Do you feel that work from home adds to stress at home?',\n",
      "       'Does work from home create a social gap between you and your colleagues?',\n",
      "       'Do you feel that working hours have increased because of work from home?',\n",
      "       'Organized work How do you Feel about Organized work effects on Work life balance factors Ex:-Because of the miscommunication between the employees and unable to Organized work? ',\n",
      "       'Do you feel that the amenities available at home are insufficient for a comfortable work experience?',\n",
      "       'Do your family members hinder your work during work from home?',\n",
      "       'How much do you rate yourself for financial balance in family during lockdown? ',\n",
      "       'How much do you rate yourself for psychological balance?',\n",
      "       'How much do you rate yourself for Work Life Balance?'],\n",
      "      dtype='object')\n"
     ]
    }
   ],
   "source": [
    "import pandas as pd\n",
    "\n",
    "# 파일 경로\n",
    "csv_file_path = \"/Users/suran/Desktop/dataset.xlsx\"  \n",
    "\n",
    "\n",
    "df = pd.read_excel(csv_file_path)\n",
    "\n",
    "\n",
    "# print(df.head())\n",
    "print(df.shape)\n",
    "print(df.columns)\n"
   ]
  },
  {
   "cell_type": "markdown",
   "id": "f7934246",
   "metadata": {},
   "source": [
    "## 1. 컬럼 모아보기\n",
    "### 성별, 결혼 여부, 근무 시간, 워라밸 등 총 21개의 컬럼과 200개의 행이 존재했다. \n",
    "1. 'Gender:'\n",
    "2. ' Marital status?'\n",
    "3. ' If you are married, is your partner employed?'\n",
    "4. 'Being employed, who helps you take care of your children?'\n",
    "5. ' How many hours in a day, do you spend time with your family during this Covid-19 Pandemic?'\n",
    "6. ' Do you ever miss out quality time with your family or your friends because of work?'\n",
    "7. 'How many hours in a week do you work?'\n",
    "8. 'do you feel that you are satisfied with your work life balance?',\n",
    "9. 'Work life balance factors had a high impact on the  performance of employees in Hyderabad IT Industry during covid-19.'\n",
    "10. 'Do you feel living in urban areas helps you maintain work life balance while working from home?'\n",
    "11. 'Do you feel that time management plays an important role in maintian work life balance?'\n",
    "12. 'Do you feel Flexible Work Schedule causes miscommunication between the employees?'\n",
    "13. 'Do you feel that work from home adds to stress at home?'\n",
    "14. 'Does work from home create a social gap between you and your colleagues?'\n",
    "15. 'Do you feel that working hours have increased because of work from home?'\n",
    "16. 'Organized work How do you Feel about Organized work effects on Work life balance factors Ex:-Because of the miscommunication between the employees and unable to Organized work? '\n",
    "17. 'Do you feel that the amenities available at home are insufficient for a comfortable work experience?'\n",
    "18. 'Do your family members hinder your work during work from home?'\n",
    "19. 'How much do you rate yourself for financial balance in family during lockdown? '\n",
    "20. 'How much do you rate yourself for psychological balance?'\n",
    "21. 'How much do you rate yourself for Work Life Balance?'\n",
    "\n",
    "### 특징\n",
    "- 8~18번 컬럼은 문자열 데이터로, 'moderately Agree', 'Neutral', 'Strongly Disagree' 등의 **문자열 데이터**로 이뤄져있다.\n",
    "- 19 ~ 21번 컬럼은 **정수형 데이터**로 이뤄져있다.\n",
    "\n",
    "### 제외할 컬럼\n",
    "- 1~7번은 수치형 데이터로 나타내기 애매한 컬럼(ex Gender, Marital status 등)이기 때문에 **제외하였다**. (일간, 주간 근무시간은 수치형 데이터로 나타낼 수 있지만 '3-4 hours'과 같이 대략적인 값으로 이뤄져있기 때문에 제외하였다.)\n",
    "- 9번 컬럼은 워라밸이 업무 성과에 미치는 영향에 관한 항목이다. 본 분석과 인과 관계상 맞지 않으므로 **제외하였다**\n",
    "- 10, 11번 컬럼은 '도시 생활 및 시간 관리가 워라밸에 영향을 미친다고 생각하는 정도'로, 독립변수가 될 컬럼에 워라벨과의 관계가 이미 들어가 있으므로 부적합하다고 판단되어 **제외하였다**\n",
    "- 16번 컬럼은 질문의 내용이 어색하여 정확한 의도를 파악하기 어렵기 때문에 **제외하였다**.\n",
    "\n",
    "\n",
    "### 다음 목표\n",
    "- 문자열 데이터만 있는 컬럼과 정수형 데이터만 있는 컬럼에 대해 중복을 제거하여 존재하는 모든 값들을 확인해보기로 한다."
   ]
  },
  {
   "cell_type": "code",
   "execution_count": 12,
   "id": "debbb39c",
   "metadata": {},
   "outputs": [
    {
     "name": "stdout",
     "output_type": "stream",
     "text": [
      "['Agree', 'Disagree', 'Moderately Disagree', 'Neutral', 'Strongly Agree', 'Strongly Disagree', 'moderately Agree']\n",
      "['Agree', 'Disagree', 'Moderately Disagree', 'Neutral', 'Strongly Agree', 'Strongly Disagree', 'moderately Agree']\n",
      "['Agree', 'Disagree', 'Moderately Disagree', 'Neutral', 'Strongly Agree', 'Strongly Disagree', 'moderately Agree']\n",
      "['Agree', 'Disagree', 'Moderately Disagree', 'Neutral', 'Strongly Agree', 'Strongly Disagree', 'moderately Agree']\n",
      "['Agree', 'Disagree', 'Moderately Disagree', 'Neutral', 'Strongly Agree', 'Strongly Disagree', 'moderately Agree']\n",
      "['Agree', 'Disagree', 'Moderately Disagree', 'Neutral', 'Strongly Agree', 'Strongly Disagree', 'moderately Agree']\n",
      "['Agree', 'Disagree', 'Moderately Disagree', 'Neutral', 'Strongly Agree', 'Strongly Disagree', 'moderately Agree']\n",
      "[1, 2, 3, 4, 5]\n",
      "[1, 2, 3, 4, 5]\n",
      "[1, 2, 3, 4, 5]\n"
     ]
    }
   ],
   "source": [
    "# 문자열 데이터만 있는 컬럼의 값 확인하기\n",
    "for i in df.columns[7:18]:\n",
    "    # 제외하기로 한 9번, 10, 11, 16번 컬럼은 건너뛰기\n",
    "    if(i== 'Work life balance factors had a high impact on the  performance of employees in Hyderabad IT Industry during covid-19.' or \n",
    "       i=='Organized work How do you Feel about Organized work effects on Work life balance factors Ex:-Because of the miscommunication between the employees and unable to Organized work? ' or\n",
    "        i == 'Do you feel living in urban areas helps you maintain work life balance while working from home?' or\n",
    "    i=='Do you feel that time management plays an important role in maintian work life balance?'):\n",
    "        continue\n",
    "    test = df[i].unique().tolist()\n",
    "    test = sorted(test) # 오름차순으로 정렬\n",
    "    print(test) \n",
    "    \n",
    "# 정수형 데이터만 있는 컬럼의 값 확인하기\n",
    "for i in df.columns[18:21]:\n",
    "    test = df[i].unique().tolist()\n",
    "    test = sorted(test) # 오름차순으로 정렬\n",
    "    print(test) "
   ]
  },
  {
   "cell_type": "markdown",
   "id": "ee70e409",
   "metadata": {},
   "source": [
    "## 2. 컬럼의 값 분석하기\n",
    "### 문자열 데이터만 있는 컬럼\n",
    "- 'Agree', 'Disagree', 'Moderately Disagree', 'Neutral', 'Strongly Agree', 'Strongly Disagree', 'moderately Agree' 총 7개의 데이터가 존재한다.\n",
    "- 모든 컬럼에 위 7개의 값이 동일하게 존재한다.\n",
    "- 결측치는 없다.\n",
    "\n",
    "### 정수형 데이터만 있는 컬럼\n",
    "- 1부터 5까지 총 5개의 데이터가 존재한다.\n",
    "- 모든 컬럼에 1~5의 값이 동일하게 존재한다.\n",
    "- 결측치는 없다.\n",
    "\n",
    "### 결론\n",
    "- 문자열 데이터는 정도를 나타내고 있고, 이상치나 결측치가 없기 때문에 1~7까지의 수치형 데이터로 형변환 가능하다.\n",
    "'Strongly Agree': 7,\n",
    "'Agree': 6,\n",
    "'moderately Agree': 5,\n",
    "'Neutral': 4,\n",
    "'Moderately Disagree': 3,\n",
    "'Disagree': 2,\n",
    "'Strongly Disagree': 1\n",
    "- 1-5 보다는 1-7의 값이 더 다양성이 있다고 판단했기 때문에, 통일성을 위해 정수형 데이터의 컬럼은 사용하지 않고, **문자열 데이터만 있는 컬럼(9번, 10, 11, 16번 컬럼 제외)**만 분석에 사용하기로 한다.\n",
    "\n",
    "### 다음단계\n",
    "- 컬럼 명이 너무 길기 때문에 단순화시키고, 필요없는 컬럼은 제외한다.\n",
    "    - 'do you feel that you are satisfied with your work life balance?' -> <span style=\"color:blue\">workLifeBalance</span>\n",
    "    - 'Do you feel Flexible Work Schedule causes miscommunication between the employees?' -> <span style=\"color:blue\">missCommunicationCausedByFlexibleWork</span>\n",
    "    - 'Do you feel that work from home adds to stress at home?' -> <span style=\"color:blue\">stressAtHome</span>\n",
    "    - 'Does work from home create a social gap between you and your colleagues?' -> <span style=\"color:blue\">socialGap</span>\n",
    "    - 'Do you feel that working hours have increased because of work from home?' -> <span style=\"color:blue\">increasedWorkingHours</span>\n",
    "    - 'Do you feel that the amenities available at home are insufficient for a comfortable work experience?' -> <span style=\"color:blue\">amenitiesInsufficient</span>\n",
    "    - 'Do your family members hinder your work during work from home?' -> <span style=\"color:blue\">familyHindrance</span>\n",
    "- 문자열 데이터를 1-7의 수치형 데이터로 형변환한다."
   ]
  },
  {
   "cell_type": "code",
   "execution_count": 13,
   "id": "70e09d43",
   "metadata": {},
   "outputs": [
    {
     "name": "stdout",
     "output_type": "stream",
     "text": [
      "<bound method NDFrame.head of      workLifeBalance  missCommunicationCausedByFlexibleWork  stressAtHome  \\\n",
      "0                  5                                      7             7   \n",
      "1                  5                                      7             2   \n",
      "2                  4                                      7             1   \n",
      "3                  1                                      5             6   \n",
      "4                  3                                      4             4   \n",
      "..               ...                                    ...           ...   \n",
      "195                7                                      3             2   \n",
      "196                6                                      5             6   \n",
      "197                2                                      2             2   \n",
      "198                7                                      4             4   \n",
      "199                7                                      7             7   \n",
      "\n",
      "     socialGap  increasedWorkingHours  amenitiesInsufficient  familyHindrance  \n",
      "0            5                      6                      3                4  \n",
      "1            5                      5                      3                4  \n",
      "2            6                      2                      2                5  \n",
      "3            2                      7                      2                6  \n",
      "4            4                      4                      4                4  \n",
      "..         ...                    ...                    ...              ...  \n",
      "195          3                      2                      3                3  \n",
      "196          6                      7                      7                5  \n",
      "197          2                      2                      2                2  \n",
      "198          4                      4                      4                4  \n",
      "199          7                      7                      7                7  \n",
      "\n",
      "[200 rows x 7 columns]>\n"
     ]
    }
   ],
   "source": [
    "# 컬럼명이 너무 길어서 짧게 변경\n",
    "df = df.rename(columns={'do you feel that you are satisfied with your work life balance?': 'workLifeBalance'})\n",
    "df = df.rename(columns={'Do you feel Flexible Work Schedule causes miscommunication between the employees?': 'missCommunicationCausedByFlexibleWork'})\n",
    "df = df.rename(columns={'Do you feel that work from home adds to stress at home?': 'stressAtHome'})\n",
    "df = df.rename(columns={'Does work from home create a social gap between you and your colleagues?': 'socialGap'})\n",
    "df = df.rename(columns={'Do you feel that working hours have increased because of work from home?': 'increasedWorkingHours'})\n",
    "df = df.rename(columns={'Do you feel that the amenities available at home are insufficient for a comfortable work experience?': 'amenitiesInsufficient'})\n",
    "df = df.rename(columns={'Do your family members hinder your work during work from home?': 'familyHindrance'})\n",
    "\n",
    "\n",
    "# 문자열 -> 정수로 바꾸기 위한 dictionary 객체 생성\n",
    "mapping_dict = {\n",
    "    'Strongly Agree': 7,\n",
    "    'Agree': 6,\n",
    "    'moderately Agree': 5,\n",
    "    'Neutral': 4,\n",
    "    'Moderately Disagree': 3,\n",
    "    'Disagree': 2,\n",
    "    'Strongly Disagree': 1\n",
    "}\n",
    "\n",
    "\n",
    "# mapping_dict을 바탕으로 실제 컬럼의 값을 변환\n",
    "for i in df.columns[7:18]:\n",
    "    # 제외하기로 한 9번, 10, 11, 16번 컬럼은 건너뛰기\n",
    "    if(i== 'Work life balance factors had a high impact on the  performance of employees in Hyderabad IT Industry during covid-19.' or \n",
    "       i=='Organized work How do you Feel about Organized work effects on Work life balance factors Ex:-Because of the miscommunication between the employees and unable to Organized work? ' or\n",
    "        i == 'Do you feel living in urban areas helps you maintain work life balance while working from home?' or\n",
    "    i=='Do you feel that time management plays an important role in maintian work life balance?'):\n",
    "        continue\n",
    "    df[i] = df[i].replace(mapping_dict)\n",
    "                        \n",
    "# 필요한 컬럼만 추출해서 새로운 df 객체 생성\n",
    "new_df = df[['workLifeBalance','missCommunicationCausedByFlexibleWork','stressAtHome','socialGap', 'increasedWorkingHours','amenitiesInsufficient','familyHindrance']]\n",
    "\n",
    "# 결과 확인\n",
    "print(new_df.head)\n"
   ]
  },
  {
   "cell_type": "markdown",
   "id": "61c5fda4",
   "metadata": {},
   "source": [
    "## 3. 독립변수와 종속변수 설정 및 가설 세우기\n",
    "### 독립변수(6개)\n",
    "\n",
    "'missCommunicationCausedByFlexibleWork','stressAtHome','socialGap', 'increasedWorkingHours','amenitiesInsufficient','familyHindrance'\n",
    "\n",
    "### 종속변수\n",
    "'workLifeBalance', \n",
    "\n",
    "### 가설 설정\n",
    "1. 유연 근무제가 직원간 의사소통에 문제가 된다고 생각하는 정도\n",
    "2. 재택근무가 집에서의 스트레스를 가중시킨다고 생각하는 정도\n",
    "3. 재택근무가 직원간 사회적 격차를 발생시킨다고 생각하는 정도\n",
    "4. 재택근무로 인해 근로시간이 증가했다고 생각하는 정도\n",
    "5. 집에서의 편의 시설이 편안한 직장 생활을 하기에 부족하다고 생각하는 정도\n",
    "6. 가족들이 재택근무 중 업무에 지장을 준다고 생각하는 정도\n",
    "\n",
    "**위 6가지 독립변수는 IT 직원들의 워라밸과 관계가 있다.**\n",
    "\n",
    "### 구체적인 대립 가설 설정\n",
    "\n",
    "1. 유연 근무제가 직원간 의사소통에 문제가 된다고 생각하는 정도가 작을 수록 워라벨이 높을 것이다.\n",
    "2. 재택근무가 집에서의 스트레스를 가중시킨다고 생각하는 정도가 작을 수록 워라벨이 높을 것이다.\n",
    "3. 재택근무가 직원간 사회적 격차를 발생시킨다고 생각하는 정도가 작을 수록 워라벨이 높을 것이다.\n",
    "4. 재택근무로 인해 근로시간이 증가했다고 생각하는 정도가 작을 수록 워라벨이 높을 것이다.\n",
    "5. 집에서의 편의 시설이 편안한 직장 생활을 하기에 부족하다고 생각하는 정도가 작을 수록 워라벨이 높을 것이다.\n",
    "6. 가족들이 재택근무 중 업무에 지장을 준다고 생각하는 정도가 작을 수록 워라벨이 높을 것이다.\n",
    "\n",
    "\n",
    "### 다음 단계\n",
    "- ols를 이용한 다중 회귀 분석"
   ]
  },
  {
   "cell_type": "code",
   "execution_count": 17,
   "id": "a3e8a8f4",
   "metadata": {},
   "outputs": [
    {
     "name": "stdout",
     "output_type": "stream",
     "text": [
      "                            OLS Regression Results                            \n",
      "==============================================================================\n",
      "Dep. Variable:        workLifeBalance   R-squared:                       0.303\n",
      "Model:                            OLS   Adj. R-squared:                  0.282\n",
      "Method:                 Least Squares   F-statistic:                     14.01\n",
      "Date:                Sat, 21 Oct 2023   Prob (F-statistic):           3.27e-13\n",
      "Time:                        22:31:48   Log-Likelihood:                -381.24\n",
      "No. Observations:                 200   AIC:                             776.5\n",
      "Df Residuals:                     193   BIC:                             799.6\n",
      "Df Model:                           6                                         \n",
      "Covariance Type:            nonrobust                                         \n",
      "=========================================================================================================\n",
      "                                            coef    std err          t      P>|t|      [0.025      0.975]\n",
      "---------------------------------------------------------------------------------------------------------\n",
      "Intercept                                 1.3634      0.313      4.356      0.000       0.746       1.981\n",
      "missCommunicationCausedByFlexibleWork     0.2770      0.137      2.017      0.045       0.006       0.548\n",
      "stressAtHome                             -0.2475      0.147     -1.688      0.093      -0.537       0.042\n",
      "socialGap                                 0.0275      0.147      0.187      0.852      -0.262       0.317\n",
      "increasedWorkingHours                    -0.0092      0.154     -0.060      0.952      -0.314       0.295\n",
      "amenitiesInsufficient                     0.1554      0.134      1.163      0.246      -0.108       0.419\n",
      "familyHindrance                           0.3570      0.136      2.620      0.009       0.088       0.626\n",
      "==============================================================================\n",
      "Omnibus:                        0.726   Durbin-Watson:                   1.622\n",
      "Prob(Omnibus):                  0.695   Jarque-Bera (JB):                0.831\n",
      "Skew:                          -0.133   Prob(JB):                        0.660\n",
      "Kurtosis:                       2.830   Cond. No.                         31.7\n",
      "==============================================================================\n",
      "\n",
      "Notes:\n",
      "[1] Standard Errors assume that the covariance matrix of the errors is correctly specified.\n"
     ]
    }
   ],
   "source": [
    "import statsmodels.formula.api as smf\n",
    "import statsmodels.api as sm\n",
    "\n",
    "lm_workLifeBal = smf.ols(\"workLifeBalance ~ missCommunicationCausedByFlexibleWork + stressAtHome +  socialGap + increasedWorkingHours + amenitiesInsufficient + familyHindrance\", data = new_df).fit()\n",
    "\n",
    "#추정된 결과\n",
    "print(lm_workLifeBal.summary())"
   ]
  },
  {
   "cell_type": "code",
   "execution_count": 18,
   "id": "e31e2791",
   "metadata": {},
   "outputs": [
    {
     "name": "stdout",
     "output_type": "stream",
     "text": [
      "                            OLS Regression Results                            \n",
      "==============================================================================\n",
      "Dep. Variable:        workLifeBalance   R-squared:                       0.287\n",
      "Model:                            OLS   Adj. R-squared:                  0.279\n",
      "Method:                 Least Squares   F-statistic:                     39.59\n",
      "Date:                Sat, 21 Oct 2023   Prob (F-statistic):           3.54e-15\n",
      "Time:                        22:32:12   Log-Likelihood:                -383.61\n",
      "No. Observations:                 200   AIC:                             773.2\n",
      "Df Residuals:                     197   BIC:                             783.1\n",
      "Df Model:                           2                                         \n",
      "Covariance Type:            nonrobust                                         \n",
      "=========================================================================================================\n",
      "                                            coef    std err          t      P>|t|      [0.025      0.975]\n",
      "---------------------------------------------------------------------------------------------------------\n",
      "Intercept                                 1.3467      0.301      4.474      0.000       0.753       1.940\n",
      "missCommunicationCausedByFlexibleWork     0.2307      0.116      1.982      0.049       0.001       0.460\n",
      "familyHindrance                           0.3338      0.119      2.809      0.005       0.099       0.568\n",
      "==============================================================================\n",
      "Omnibus:                        0.769   Durbin-Watson:                   1.622\n",
      "Prob(Omnibus):                  0.681   Jarque-Bera (JB):                0.824\n",
      "Skew:                          -0.146   Prob(JB):                        0.662\n",
      "Kurtosis:                       2.882   Cond. No.                         17.5\n",
      "==============================================================================\n",
      "\n",
      "Notes:\n",
      "[1] Standard Errors assume that the covariance matrix of the errors is correctly specified.\n"
     ]
    }
   ],
   "source": [
    "lm_workLifeBal = smf.ols(\"workLifeBalance ~ missCommunicationCausedByFlexibleWork + familyHindrance\", data = new_df).fit()\n",
    "\n",
    "#추정된 결과\n",
    "print(lm_workLifeBal.summary())"
   ]
  },
  {
   "cell_type": "markdown",
   "id": "9ebb2a60",
   "metadata": {},
   "source": [
    "## 4. 다중 회귀 결과 분석\n",
    "\n",
    "### p-value\n",
    "먼저 summary() 함수를 통해 p-value를 확인했을 때, 값이 p < 0.05인 독립변수로는 missCommunicationCausedByFlexibleWork,familyHindrance다. 따라서 통계적 유의성을 갖는 2가지 항목에 대해 다시 다중 회귀 분석을 실시한다.\n",
    "그 결과 여전히 두 변수 모두 p < 0.05 이하임을 확인할 수 있다.\n",
    "\n",
    "### R-squared\n",
    "결정 계수는 0.286으로, 30% 미만의 높지않은 설명력을 가진 것으로 파악되었다.\n",
    "\n",
    "### coef\n",
    "missCommunicationCausedByFlexibleWork,familyHindrance 각각의 회귀계수는 0.2307, 0.3338로, 상대적으로 familyHindrance의 영향력이 더 크다.\n",
    "\n",
    "### 다음단계\n",
    "시각화"
   ]
  },
  {
   "cell_type": "markdown",
   "id": "0e624e56",
   "metadata": {},
   "source": [
    "## 5. 시각화\n",
    "회귀계수 값이 더 큰 familyHindrance의 기울기가 약간 더 큰 것을 확인할 수 있다."
   ]
  },
  {
   "cell_type": "code",
   "execution_count": 130,
   "id": "044133e1",
   "metadata": {},
   "outputs": [
    {
     "data": {
      "image/png": "[encoded data removed]",
      "text/plain": [
       "<Figure size 432x288 with 1 Axes>"
      ]
     },
     "metadata": {
      "needs_background": "light"
     },
     "output_type": "display_data"
    }
   ],
   "source": [
    "#선형모델을 추정하는 라이브러리\n",
    "import statsmodels.formula.api as smf\n",
    "import statsmodels.api as sm\n",
    "\n",
    "import seaborn as sns\n",
    "import matplotlib.pyplot as plt\n",
    "import numpy as np\n",
    "sns.set()\n",
    "\n",
    "#표시 자릿수 지정\n",
    "%precision 3\n",
    "\n",
    "#그래프를 주피터 노트북에 그리기 위한 설정\n",
    "%matplotlib inline\n",
    "\n",
    "\n",
    "# Seaborn을 사용한 회귀선 시각화 (p < 0.05인 변수들만)\n",
    "sns.regplot(x='missCommunicationCausedByFlexibleWork', y='workLifeBalance', data=new_df, label='missCommunicationCausedByFlexibleWork', color='blue')\n",
    "sns.regplot(x='familyHindrance', y='workLifeBalance', data=new_df, label='familyHindrance', color='green')\n",
    "\n",
    "# 그래프 라벨 및 제목 설정\n",
    "plt.xlabel('X Values')\n",
    "plt.ylabel('y Values')\n",
    "plt.title('Multiple Regression Analysis of Work-Life Balance')\n",
    "\n",
    "# 범례 추가\n",
    "plt.legend()\n",
    "\n",
    "# 그래프 표시\n",
    "plt.show()"
   ]
  },
  {
   "cell_type": "markdown",
   "id": "9e474334",
   "metadata": {},
   "source": [
    "## 6. 결과 해석\n",
    "'유연 근무제가 직원간 의사소통에 문제가 된다고 생각하는 정도가 클수록', '가족들이 재택근무 중 업무에 지장을 준다고 생각하는 정도가 클수록' 워라밸 수준이 낮다고 응답할 것이라고 생각했다. 그런데 둘의 회귀계수가 음수가 아닌 양수값이 나왔다는 점이 주목할 만하다. \n",
    "\n",
    "### 이유 추측\n",
    "- missCommunicationCausedByFlexibleWork: 이유를 추측할 수 없음. p-value도 0.05에 근접하게 나와서 의미 없는 독립변수로 판단.\n",
    "- familyHindrance가 높다는 것은 그만큼 가족과 보내는 시간이 많다고 볼 수 있음. 가족의 업무 방해가 업무 성과와는 관계가 있을지 몰라도, 가족과 보내는 시간이 많아지기 때문에 워라밸에는 오히려 긍정적일 수도 있음\n",
    "- 해당 모델이 회귀분석의 4가지 가정을 충족하는지 검증하지 못함"
   ]
  },
  {
   "cell_type": "markdown",
   "id": "80c10039",
   "metadata": {},
   "source": [
    "## 7. 추가 분석\n",
    " ## 독립 변수로 채택하지 않았던 컬럼 중 유의미해 보이는 2가지 컬럼에 대해 분석 및 시각화\n",
    " ### 2개의 컬럼명을 간결히 바꾸고 새로운 df 객체로 재구성하고 응답 빈도를 시각화\n",
    " \n",
    " - 'Work life balance factors had a high impact on the  performance of employees in Hyderabad IT Industry during covid-19.' -> <span style=\"color:blue\">WLBwithJobPerformance</span>\n",
    " - 'Do you feel that time management plays an important role in maintian work life balance?' -> <span style=\"color:blue\">timeManagement</span>"
   ]
  },
  {
   "cell_type": "code",
   "execution_count": 145,
   "id": "05e9e72b",
   "metadata": {},
   "outputs": [
    {
     "name": "stdout",
     "output_type": "stream",
     "text": [
      "    WLBwithJobPerformance  timeManagement\n",
      "0     Moderately Disagree           Agree\n",
      "1     Moderately Disagree        Disagree\n",
      "2                Disagree        Disagree\n",
      "3       Strongly Disagree           Agree\n",
      "4                 Neutral         Neutral\n",
      "..                    ...             ...\n",
      "195              Disagree        Disagree\n",
      "196      moderately Agree           Agree\n",
      "197              Disagree        Disagree\n",
      "198               Neutral         Neutral\n",
      "199        Strongly Agree  Strongly Agree\n",
      "\n",
      "[200 rows x 2 columns]\n"
     ]
    }
   ],
   "source": [
    "df = df.rename(columns={'Work life balance factors had a high impact on the  performance of employees in Hyderabad IT Industry during covid-19.': 'WLBwithJobPerformance'})\n",
    "df = df.rename(columns={'Do you feel that time management plays an important role in maintian work life balance?': 'timeManagement'})\n",
    "\n",
    "\n",
    "additional_df = df[['WLBwithJobPerformance','timeManagement']]\n",
    "\n",
    "print(additional_df)"
   ]
  },
  {
   "cell_type": "markdown",
   "id": "459956ac",
   "metadata": {},
   "source": [
    "## WLBwithJobPerformance에 대한 응답 빈도를 시각화\n",
    "\n",
    "### 결과\n",
    "펜데믹 동안 워라밸이 업무 성과에 큰 영향을 미쳤다는 질문에 50% 이상의 직원들이 동의했다. 35%의 직원들은 동의하지 않았다."
   ]
  },
  {
   "cell_type": "code",
   "execution_count": 142,
   "id": "b2e720d2",
   "metadata": {},
   "outputs": [
    {
     "name": "stdout",
     "output_type": "stream",
     "text": [
      "Agree                  37\n",
      "moderately Agree       37\n",
      "Strongly Agree         35\n",
      "Moderately Disagree    28\n",
      "Disagree               24\n",
      "Neutral                21\n",
      "Strongly Disagree      18\n",
      "Name: WLBwithJobPerformance, dtype: int64\n"
     ]
    },
    {
     "data": {
      "image/png": "[encoded data removed]",
      "text/plain": [
       "<Figure size 1296x432 with 1 Axes>"
      ]
     },
     "metadata": {
      "needs_background": "light"
     },
     "output_type": "display_data"
    }
   ],
   "source": [
    "count = additional_df['WLBwithJobPerformance'].value_counts()\n",
    "print(count)\n",
    "\n",
    "plt.figure(figsize=(18, 6))\n",
    "plt.bar(count.index, count.values)\n",
    "\n",
    "# 그래프 레이블과 제목 설정\n",
    "plt.xlabel('WLBwithJobPerformance')\n",
    "plt.ylabel('Frequency')\n",
    "plt.title('Frequency of WLBwithJobPerformance Values')\n",
    "\n",
    "# 그래프 표시\n",
    "plt.show()"
   ]
  },
  {
   "cell_type": "markdown",
   "id": "08239a9d",
   "metadata": {},
   "source": [
    "## timeManagement에 대한 응답 빈도를 시각화\n",
    "\n",
    "### 결과\n",
    "시간 관리가 워라밸을 유지하는데 중요한 역할을 한다는 질문에 대해 약 60%의 직원들이 동의했다. 32%의 직원들은 동의하지 않았다."
   ]
  },
  {
   "cell_type": "code",
   "execution_count": 147,
   "id": "e100eac4",
   "metadata": {},
   "outputs": [
    {
     "name": "stdout",
     "output_type": "stream",
     "text": [
      "Strongly Agree         45\n",
      "Agree                  42\n",
      "moderately Agree       34\n",
      "Moderately Disagree    25\n",
      "Disagree               22\n",
      "Strongly Disagree      17\n",
      "Neutral                15\n",
      "Name: timeManagement, dtype: int64\n"
     ]
    },
    {
     "data": {
      "image/png": "[encoded data removed]",
      "text/plain": [
       "<Figure size 1296x432 with 1 Axes>"
      ]
     },
     "metadata": {
      "needs_background": "light"
     },
     "output_type": "display_data"
    }
   ],
   "source": [
    "count = additional_df['timeManagement'].value_counts()\n",
    "print(count)\n",
    "\n",
    "plt.figure(figsize=(18, 6))\n",
    "plt.bar(count.index, count.values)\n",
    "\n",
    "# 그래프 레이블과 제목 설정\n",
    "plt.xlabel('timeManagement')\n",
    "plt.ylabel('Frequency')\n",
    "plt.title('Frequency of timeManagement Values')\n",
    "\n",
    "# 그래프 표시\n",
    "plt.show()"
   ]
  },
  {
   "cell_type": "markdown",
   "id": "6288cbd1",
   "metadata": {},
   "source": [
    "## 8. 결론\n",
    "1. 펜데믹 기간동안 IT 기업 직원들의 워라밸에 영향을 미치는 요인을 알아보기 위해 데이터 수집 및 정제를 진행하였다. \n",
    "2. 'missCommunicationCausedByFlexibleWork','stressAtHome','socialGap', 'increasedWorkingHours','amenitiesInsufficient','familyHindrance' 6가지 독립변수와 종속변수('workLifeBalance')를 설정하고, **\"6가지 독립변수는 IT 직원들의 워라밸과 관계가 있다.\"** 는 가설을 검정하기 위해 다중 회귀분석을 진행하였다.\n",
    "3. 그 결과 통계적 유의성(p<0.05)을 가지는 독립변수는 'missCommunicationCausedByFlexibleWork', familyHindrance'이며, 두 독립변수에 대해 다중회귀 분석을 재실시하였다.\n",
    "    - p-value는 0.05 이하를 유지하고 있었다.\n",
    "    - 결정 계수는 0.286으로, 30% 미만의 높지않은 설명력을 가졌다.\n",
    "    - 회귀 계수의 절댓값은 familyHindrance가 더 크다. 따라서 종속변수에 대한 영향력도 상대적으로 더 크다.\n",
    "4. 분석 결과 해석 과정에서 'missCommunicationCausedByFlexibleWork', familyHindrance' 두 독립변수의 회귀 계수 값이 음수가 나올 것으로 기대했으나 양수가 나와서 이유를 추측해보았다.\n",
    "    - missCommunicationCausedByFlexibleWork: 이유를 추측할 수 없음. p-value도 0.05에 근접하게 나와서 의미 없는 독립변수로 판단.\n",
    "    - familyHindrance가 높다는 것은 그만큼 가족과 보내는 시간이 많다고 볼 수 있음. 가족의 업무 방해가 업무 성과와는 관계가 있을지 몰라도, 가족과 보내는 시간이 많아지기 때문에 워라밸에는 오히려 긍정적일 수도 있음\n",
    "5. **본 분석의 한계점**\n",
    "    - 해당 모델이 회귀분석의 4가지 가정(선형, 다중공선성, 잔차의정규성, 잔차의 등분산)을 충족했는지 검증하지 못하였다.\n",
    "    - 표본의 크기가 200으로 크지 않았다.\n",
    "    - 위와 같은 이유로 분석 결과 중 납득하기 힘든 부분이 있다고 판단해서 결론 보충을 위해 추가 분석을 진행하였다.\n",
    "6. 추가 분석으로는 다중 회귀 분석 시 독립변수에 포함하지 않았던 'WLBwithJobPerformance','timeManagement'에 대해 직원들의 응답 빈도를 확인하고 시각화 하는 작업을 진행하였다.\n",
    "    - 시간 관리가 워라밸을 유지하는데 중요한 역할을 한다는 질문에 대해 약 60%의 직원들이 동의했다\n",
    "    - 펜데믹 동안 워라밸이 업무 성과에 큰 영향을 미쳤다는 질문에 50% 이상의 직원들이 동의했다. \n",
    "    \n",
    "## 9. 해당 IT 기업 경영진에게 제안하는 사항\n",
    "1. 재택근무로 가족과 보내는 시간이 많아지면, 직원들의 워라밸 수준이 향상될 수 있다. 하지만 가족들의 업무 방해로 인한 직무 성과와는 관계가 없는지 검증이 필요하다.\n",
    "2. 직원들의 60%가 시간관리가 워라밸에 중요한 역할을 한다고 응답했다. 따라서 재택근무 시 직원들의 시간관리를 위한 매뉴얼 제공, 시간 관리 모니터링 프로그램 등을 제공하는 것은 직원 워라밸 향상에 도움이 될 수 있다.\n",
    "3. 절반 이상의 직원들이 워라밸은 업무 성과와 긍정적인 관계가 있다고 응답했다. 따라서 직원들이 워라밸을 추구할 수 있도록 방안을 모색해야 한다."
   ]
  },
  {
   "cell_type": "code",
   "execution_count": null,
   "id": "4425532f",
   "metadata": {},
   "outputs": [],
   "source": []
  }
 ],
 "metadata": {
  "kernelspec": {
   "display_name": "Python 3 (ipykernel)",
   "language": "python",
   "name": "python3"
  },
  "language_info": {
   "codemirror_mode": {
    "name": "ipython",
    "version": 3
   },
   "file_extension": ".py",
   "mimetype": "text/x-python",
   "name": "python",
   "nbconvert_exporter": "python",
   "pygments_lexer": "ipython3",
   "version": "3.9.7"
  }
 },
 "nbformat": 4,
 "nbformat_minor": 5
}
